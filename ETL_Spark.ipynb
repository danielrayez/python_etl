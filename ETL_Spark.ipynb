{
  "nbformat": 4,
  "nbformat_minor": 0,
  "metadata": {
    "colab": {
      "provenance": []
    },
    "kernelspec": {
      "name": "python3",
      "display_name": "Python 3"
    },
    "language_info": {
      "name": "python"
    }
  },
  "cells": [
    {
      "cell_type": "markdown",
      "source": [
        "el objetivo es hacer una etl con spark a un conjunto de datos de un archivo excel que también fue sometido a una transformación con pandas"
      ],
      "metadata": {
        "id": "MTANPqfxN7xj"
      }
    },
    {
      "cell_type": "code",
      "execution_count": 1,
      "metadata": {
        "id": "AyQc7prdH-RP"
      },
      "outputs": [],
      "source": [
        "#COMIENZO ETL CON SPARK\n",
        "\n",
        "from pyspark.sql import SparkSession\n",
        "import pandas as pd\n",
        "from pyspark.sql.functions import expr, to_date, split, explode, posexplode, concat_ws\n",
        "import time\n",
        "\n",
        "spark = SparkSession.builder.appName(\"ETL\").getOrCreate()"
      ]
    },
    {
      "cell_type": "code",
      "source": [
        "inicio = time.time()"
      ],
      "metadata": {
        "id": "w9NB83Rc2x9L"
      },
      "execution_count": 31,
      "outputs": []
    },
    {
      "cell_type": "code",
      "source": [
        "#leer archivo .xlsx\n",
        "\n",
        "df_pandas = pd.read_excel('/content/Datos.xlsx', sheet_name=\"Hoja2 RF04\", skiprows=4)\n"
      ],
      "metadata": {
        "id": "Vm1Eo7YSXapK"
      },
      "execution_count": 32,
      "outputs": []
    },
    {
      "cell_type": "code",
      "source": [
        "#Auxiliares\n",
        "\n",
        "meses = {\"ene\": \"01\", \"feb\": \"02\", \"mar\": \"03\", \"abr\": \"04\", \"may\": \"05\", \"jun\": \"06\",\n",
        "         \"jul\": \"07\", \"ago\": \"08\", \"sep\": \"09\", \"oct\": \"10\", \"nov\": \"11\", \"dic\": \"12\"}\n",
        "\n",
        "cols_base = ['CANAL', 'GRUPO', 'CODIGO']\n",
        "\n",
        "cajas = [\n",
        "    'abr-25', 'may-25', 'jun-25', 'jul-25', 'ago-25', 'sep-25',\n",
        "    'oct-25', 'nov-25', 'dic-25', 'ene-26', 'feb-26', 'mar-26'\n",
        "]\n",
        "\n",
        "precios = [\n",
        "    'abr_25-Pr Netos', 'may_25-Pr Netos', 'jun_25-Pr Netos', 'jul_25-Pr Netos',\n",
        "    'ago_25-Pr Netos', 'sep_25-Pr Netos', 'oct_25-Pr Netos', 'nov_25-Pr Netos',\n",
        "    'dic_25-Pr Netos', 'ene_26-Pr Netos', 'feb_26-Pr Netos', 'mar_26-Pr Netos'\n",
        "]\n",
        "\n",
        "fap = [\n",
        "    'Abr_25 FAP', 'May_25 FAP', 'Jun_25 FAP', 'Jul_25 FAP',\n",
        "    'Ago_25 FAP', 'Sep_25 FAP', 'Oct_25 FAP', 'Nov_25 FAP',\n",
        "    'Dic_25 FAP', 'Ene_26 FAP', 'Feb_26 FAP', 'Mar_26 FAP'\n",
        "]\n",
        "\n",
        "ptp = [\n",
        "    'Abr_25 PTP $$', 'May_25 PTP $$', 'Jun_25 PTP $$', 'Jul_25 PTP $$',\n",
        "    'Ago_25 PTP $$', 'Sep_25 PTP $$', 'Oct_25 PTP $$', 'Nov_25 PTP $$',\n",
        "    'Dic_25 PTP $$', 'Ene_26 PTP $$', 'Feb_26 PTP $$', 'Mar_26 PTP $$'\n",
        "]\n",
        "\n",
        "# Selección total\n",
        "columnas_seleccionadas = cols_base + cajas + precios + fap + ptp\n",
        "df = df_pandas[columnas_seleccionadas]"
      ],
      "metadata": {
        "id": "ls9ZvulnTSdO"
      },
      "execution_count": 33,
      "outputs": []
    },
    {
      "cell_type": "code",
      "source": [
        "df_spark = spark.createDataFrame(df)\n",
        "df_spark.cache()\n"
      ],
      "metadata": {
        "id": "8edZbAEhJrZt",
        "collapsed": true,
        "colab": {
          "base_uri": "https://localhost:8080/"
        },
        "outputId": "b3af9b5a-dc35-4531-80fb-118434e2ff42"
      },
      "execution_count": 34,
      "outputs": [
        {
          "output_type": "execute_result",
          "data": {
            "text/plain": [
              "DataFrame[CANAL: string, GRUPO: string, CODIGO: bigint, abr-25: double, may-25: double, jun-25: double, jul-25: double, ago-25: double, sep-25: double, oct-25: double, nov-25: double, dic-25: double, ene-26: double, feb-26: double, mar-26: double, abr_25-Pr Netos: double, may_25-Pr Netos: double, jun_25-Pr Netos: double, jul_25-Pr Netos: double, ago_25-Pr Netos: double, sep_25-Pr Netos: double, oct_25-Pr Netos: double, nov_25-Pr Netos: double, dic_25-Pr Netos: double, ene_26-Pr Netos: double, feb_26-Pr Netos: double, mar_26-Pr Netos: double, Abr_25 FAP: double, May_25 FAP: double, Jun_25 FAP: double, Jul_25 FAP: double, Ago_25 FAP: double, Sep_25 FAP: double, Oct_25 FAP: double, Nov_25 FAP: double, Dic_25 FAP: double, Ene_26 FAP: double, Feb_26 FAP: double, Mar_26 FAP: double, Abr_25 PTP $$: double, May_25 PTP $$: double, Jun_25 PTP $$: double, Jul_25 PTP $$: double, Ago_25 PTP $$: double, Sep_25 PTP $$: double, Oct_25 PTP $$: double, Nov_25 PTP $$: double, Dic_25 PTP $$: double, Ene_26 PTP $$: double, Feb_26 PTP $$: double, Mar_26 PTP $$: double]"
            ]
          },
          "metadata": {},
          "execution_count": 34
        }
      ]
    },
    {
      "cell_type": "code",
      "source": [
        "# df_spark.printSchema()"
      ],
      "metadata": {
        "collapsed": true,
        "id": "y8YVRdmPV7oc"
      },
      "execution_count": 35,
      "outputs": []
    },
    {
      "cell_type": "code",
      "source": [
        "#Funcion para despivotar columnas y generar df distintos\n",
        "\n",
        "def unpivot(df, id_cols, value_cols, var_name=\"Fecha\", val_name=\"Valor\"):\n",
        "\n",
        "    stack_expr = f\"stack({len(value_cols)}, \" + \\\n",
        "                 \", \".join([f\"'{col}', `{col}`\" for col in value_cols]) + \\\n",
        "                 f\") as ({var_name}, {val_name})\"\n",
        "\n",
        "    return df.select(*id_cols, expr(stack_expr))"
      ],
      "metadata": {
        "id": "ptKhqAfxROLC"
      },
      "execution_count": 36,
      "outputs": []
    },
    {
      "cell_type": "code",
      "source": [
        "df_cajas = unpivot(df_spark, id_cols=cols_base, value_cols=cajas)\n",
        "df_fap = unpivot(df_spark, id_cols=cols_base, value_cols= fap)\n",
        "df_ptp = unpivot(df_spark, id_cols=cols_base, value_cols=ptp)\n",
        "df_precios = unpivot(df_spark, id_cols=cols_base, value_cols=precios)"
      ],
      "metadata": {
        "id": "RxOZAHIYZs7O"
      },
      "execution_count": 37,
      "outputs": []
    },
    {
      "cell_type": "code",
      "source": [
        "#limpiar columna Fecha en df_cajas y cambiar a tipo date\n",
        "\n",
        "df_cajas = df_cajas.withColumn(\n",
        "    \"Fecha\", expr(\"substring(Fecha, 1, 6)\")\n",
        "      ).withColumn(\"Fecha\", expr(\"lower(Fecha)\")\n",
        "    ).withColumn(\"mes\", (split(\"Fecha\", \"-\").getItem(0))\n",
        "    ).withColumn(\"año\", (split(\"Fecha\", \"-\").getItem(1))\n",
        "    ).replace(to_replace=meses, subset=[\"mes\"]).drop(\"Fecha\")\n",
        "\n",
        "df_cajas = df_cajas.withColumn(\n",
        "    \"Fecha\", concat_ws(\"-\", \"mes\", \"año\", )\n",
        "    ).withColumn(\"Fecha\", to_date(\"Fecha\", \"MM-yy\")\n",
        "    ).withColumnRenamed(\"Valor\", \"cajas\").drop(\"mes\", \"año\")\n"
      ],
      "metadata": {
        "id": "tAaMJQ_xesGi"
      },
      "execution_count": 38,
      "outputs": []
    },
    {
      "cell_type": "code",
      "source": [
        "def limpieza(df , nombre = \"Valor\"): #esta funcion es para fap, precios y ptp pues tienen misma estructura\n",
        "\n",
        "  df = df.withColumn(\n",
        "    \"Fecha\", expr(\"substring(Fecha, 1, 6)\")\n",
        "      ).withColumn(\"Fecha\", expr(\"lower(Fecha)\")\n",
        "    ).withColumn(\"mes\", (split(\"Fecha\", \"_\").getItem(0))\n",
        "    ).withColumn(\"año\", (split(\"Fecha\", \"_\").getItem(1))\n",
        "    ).replace(to_replace=meses, subset=[\"mes\"]).drop(\"Fecha\")\n",
        "\n",
        "  df = df.withColumn(\n",
        "      \"Fecha\", concat_ws(\"-\", \"mes\", \"año\", )\n",
        "      ).withColumn(\"Fecha\", to_date(\"Fecha\", \"MM-yy\")\n",
        "      ).drop(\"mes\", \"año\")\n",
        "\n",
        "  df = df.withColumnRenamed(\"Valor\", nombre)\n",
        "  return df"
      ],
      "metadata": {
        "id": "QUpSbvDcUmER"
      },
      "execution_count": 39,
      "outputs": []
    },
    {
      "cell_type": "code",
      "source": [
        "df_fap = limpieza(df_fap, \"fap\")\n",
        "df_ptp = limpieza(df_ptp, \"ptp\")\n",
        "df_precios = limpieza(df_precios, \"precios\")\n"
      ],
      "metadata": {
        "id": "thj6hA1WUlUR"
      },
      "execution_count": 40,
      "outputs": []
    },
    {
      "cell_type": "code",
      "source": [
        "# display(df_cajas)\n",
        "# display(df_fap)\n",
        "# display(df_ptp)\n",
        "# display(df_precios)"
      ],
      "metadata": {
        "id": "nf0k0t9U7GWx"
      },
      "execution_count": 41,
      "outputs": []
    },
    {
      "cell_type": "code",
      "source": [
        "# join desde cajas a cada uno de los df\n",
        "df_fin = df_cajas.join(df_fap, on=[\"CANAL\", \"GRUPO\", \"CODIGO\", \"Fecha\"], how=\"left\").join(\n",
        "    df_ptp, on=[\"CANAL\", \"GRUPO\", \"CODIGO\", \"Fecha\"], how=\"left\").join(\n",
        "    df_precios, on=[\"CANAL\", \"GRUPO\", \"CODIGO\", \"Fecha\"], how=\"left\")\n"
      ],
      "metadata": {
        "id": "29F4tA8KVams"
      },
      "execution_count": 42,
      "outputs": []
    },
    {
      "cell_type": "code",
      "source": [
        "df_fin = df_fin.withColumn(\"fact_operativa\", (df_fin.cajas * df_fin.precios)/1000 )\n",
        "df_fin.show(5)"
      ],
      "metadata": {
        "colab": {
          "base_uri": "https://localhost:8080/"
        },
        "id": "kv_ITrSaYu5z",
        "outputId": "70e14bc6-89d0-4a32-ba3e-4f557cdff6eb"
      },
      "execution_count": 43,
      "outputs": [
        {
          "output_type": "stream",
          "name": "stdout",
          "text": [
            "+-----+-------+-------+----------+-------+---+---------+-------+--------------+\n",
            "|CANAL|  GRUPO| CODIGO|     Fecha|  cajas|fap|      ptp|precios|fact_operativa|\n",
            "+-----+-------+-------+----------+-------+---+---------+-------+--------------+\n",
            "| GGCC|WALMART|1060553|2025-05-01| 4500.0|0.0|      0.0|30178.0|      135801.0|\n",
            "| GGCC|WALMART|1060553|2025-07-01|15000.0|0.0| 117694.2|30178.0|      452670.0|\n",
            "| GGCC|WALMART|1060553|2025-09-01|14000.0|0.0|109847.92|30178.0|      422492.0|\n",
            "| GGCC|WALMART|1060553|2025-06-01| 4500.0|0.0|      0.0|30178.0|      135801.0|\n",
            "| GGCC|WALMART|1060553|2025-04-01| 2500.0|0.0|  19615.7|30178.0|       75445.0|\n",
            "+-----+-------+-------+----------+-------+---+---------+-------+--------------+\n",
            "only showing top 5 rows\n",
            "\n"
          ]
        }
      ]
    },
    {
      "cell_type": "code",
      "source": [
        "fin = time.time()\n",
        "print(f\"tiempo de lectura: {fin-inicio:.2f} segundos \")"
      ],
      "metadata": {
        "colab": {
          "base_uri": "https://localhost:8080/"
        },
        "id": "lRIhVdC126zt",
        "outputId": "cb3654cc-b3ec-4c28-8cb6-d7a5ae382ea9"
      },
      "execution_count": 44,
      "outputs": [
        {
          "output_type": "stream",
          "name": "stdout",
          "text": [
            "tiempo de lectura: 88.10 segundos \n"
          ]
        }
      ]
    },
    {
      "cell_type": "code",
      "source": [
        "df_fin.explain()"
      ],
      "metadata": {
        "colab": {
          "base_uri": "https://localhost:8080/"
        },
        "id": "v_29ab3Z-P8s",
        "outputId": "fac2287f-40fd-499a-cfd6-c7a8da14ceab"
      },
      "execution_count": 45,
      "outputs": [
        {
          "output_type": "stream",
          "name": "stdout",
          "text": [
            "== Physical Plan ==\n",
            "AdaptiveSparkPlan isFinalPlan=false\n",
            "+- Project [CANAL#1339, GRUPO#1340, CODIGO#1341L, Fecha#1780, cajas#1788, fap#1870, ptp#1945, precios#2020, ((cajas#1788 * precios#2020) / 1000.0) AS fact_operativa#2200]\n",
            "   +- BroadcastHashJoin [CANAL#1339, GRUPO#1340, CODIGO#1341L, Fecha#1780], [CANAL#2141, GRUPO#2142, CODIGO#2143L, Fecha#2007], LeftOuter, BuildRight, false\n",
            "      :- Project [CANAL#1339, GRUPO#1340, CODIGO#1341L, Fecha#1780, cajas#1788, fap#1870, ptp#1945]\n",
            "      :  +- BroadcastHashJoin [CANAL#1339, GRUPO#1340, CODIGO#1341L, Fecha#1780], [CANAL#2083, GRUPO#2084, CODIGO#2085L, Fecha#1932], LeftOuter, BuildRight, false\n",
            "      :     :- Project [CANAL#1339, GRUPO#1340, CODIGO#1341L, Fecha#1780, cajas#1788, fap#1870]\n",
            "      :     :  +- BroadcastHashJoin [CANAL#1339, GRUPO#1340, CODIGO#1341L, Fecha#1780], [CANAL#2026, GRUPO#2027, CODIGO#2028L, Fecha#1857], LeftOuter, BuildRight, false\n",
            "      :     :     :- Project [CANAL#1339, GRUPO#1340, CODIGO#1341L, Valor#1697 AS cajas#1788, cast(gettimestamp(concat_ws(-, CASE WHEN (mes#1736 = dic) THEN 12 WHEN (mes#1736 = jul) THEN 07 WHEN (mes#1736 = nov) THEN 11 WHEN (mes#1736 = oct) THEN 10 WHEN (mes#1736 = sep) THEN 09 WHEN (mes#1736 = jun) THEN 06 WHEN (mes#1736 = ene) THEN 01 WHEN (mes#1736 = mar) THEN 03 WHEN (mes#1736 = abr) THEN 04 WHEN (mes#1736 = ago) THEN 08 WHEN (mes#1736 = may) THEN 05 WHEN (mes#1736 = feb) THEN 02 ELSE mes#1736 END, año#1743), MM-yy, TimestampType, Some(Etc/UTC), false) as date) AS Fecha#1780]\n",
            "      :     :     :  +- Project [CANAL#1339, GRUPO#1340, CODIGO#1341L, Valor#1697, split(Fecha#1730, -, -1)[0] AS mes#1736, split(Fecha#1730, -, -1)[1] AS año#1743]\n",
            "      :     :     :     +- Project [CANAL#1339, GRUPO#1340, CODIGO#1341L, lower(substring(Fecha#1696, 1, 6)) AS Fecha#1730, Valor#1697]\n",
            "      :     :     :        +- Generate stack(12, abr-25, abr-25#1342, may-25, may-25#1343, jun-25, jun-25#1344, jul-25, jul-25#1345, ago-25, ago-25#1346, sep-25, sep-25#1347, oct-25, oct-25#1348, nov-25, nov-25#1349, dic-25, dic-25#1350, ene-26, ene-26#1351, feb-26, feb-26#1352, mar-26, mar-26#1353), [CANAL#1339, GRUPO#1340, CODIGO#1341L], false, [Fecha#1696, Valor#1697]\n",
            "      :     :     :           +- InMemoryTableScan [CANAL#1339, GRUPO#1340, CODIGO#1341L, abr-25#1342, may-25#1343, jun-25#1344, jul-25#1345, ago-25#1346, sep-25#1347, oct-25#1348, nov-25#1349, dic-25#1350, ene-26#1351, feb-26#1352, mar-26#1353]\n",
            "      :     :     :                 +- InMemoryRelation [CANAL#1339, GRUPO#1340, CODIGO#1341L, abr-25#1342, may-25#1343, jun-25#1344, jul-25#1345, ago-25#1346, sep-25#1347, oct-25#1348, nov-25#1349, dic-25#1350, ene-26#1351, feb-26#1352, mar-26#1353, abr_25-Pr Netos#1354, may_25-Pr Netos#1355, jun_25-Pr Netos#1356, jul_25-Pr Netos#1357, ago_25-Pr Netos#1358, sep_25-Pr Netos#1359, oct_25-Pr Netos#1360, nov_25-Pr Netos#1361, dic_25-Pr Netos#1362, ... 27 more fields], StorageLevel(disk, memory, deserialized, 1 replicas)\n",
            "      :     :     :                       +- *(1) Scan ExistingRDD[CANAL#1339,GRUPO#1340,CODIGO#1341L,abr-25#1342,may-25#1343,jun-25#1344,jul-25#1345,ago-25#1346,sep-25#1347,oct-25#1348,nov-25#1349,dic-25#1350,ene-26#1351,feb-26#1352,mar-26#1353,abr_25-Pr Netos#1354,may_25-Pr Netos#1355,jun_25-Pr Netos#1356,jul_25-Pr Netos#1357,ago_25-Pr Netos#1358,sep_25-Pr Netos#1359,oct_25-Pr Netos#1360,nov_25-Pr Netos#1361,dic_25-Pr Netos#1362,... 27 more fields]\n",
            "      :     :     +- BroadcastExchange HashedRelationBroadcastMode(List(input[0, string, true], input[1, string, true], input[2, bigint, true], input[4, date, true]),false), [plan_id=2730]\n",
            "      :     :        +- Project [CANAL#2026, GRUPO#2027, CODIGO#2028L, Valor#1704 AS fap#1870, cast(gettimestamp(concat_ws(-, CASE WHEN (mes#1813 = dic) THEN 12 WHEN (mes#1813 = jul) THEN 07 WHEN (mes#1813 = nov) THEN 11 WHEN (mes#1813 = oct) THEN 10 WHEN (mes#1813 = sep) THEN 09 WHEN (mes#1813 = jun) THEN 06 WHEN (mes#1813 = ene) THEN 01 WHEN (mes#1813 = mar) THEN 03 WHEN (mes#1813 = abr) THEN 04 WHEN (mes#1813 = ago) THEN 08 WHEN (mes#1813 = may) THEN 05 WHEN (mes#1813 = feb) THEN 02 ELSE mes#1813 END, año#1820), MM-yy, TimestampType, Some(Etc/UTC), false) as date) AS Fecha#1857]\n",
            "      :     :           +- Project [CANAL#2026, GRUPO#2027, CODIGO#2028L, Valor#1704, split(Fecha#1807, _, -1)[0] AS mes#1813, split(Fecha#1807, _, -1)[1] AS año#1820]\n",
            "      :     :              +- Project [CANAL#2026, GRUPO#2027, CODIGO#2028L, lower(substring(Fecha#1703, 1, 6)) AS Fecha#1807, Valor#1704]\n",
            "      :     :                 +- Filter isnotnull(cast(gettimestamp(concat_ws(-, CASE WHEN (split(lower(substring(Fecha#1703, 1, 6)), _, -1)[0] = dic) THEN 12 WHEN (split(lower(substring(Fecha#1703, 1, 6)), _, -1)[0] = jul) THEN 07 WHEN (split(lower(substring(Fecha#1703, 1, 6)), _, -1)[0] = nov) THEN 11 WHEN (split(lower(substring(Fecha#1703, 1, 6)), _, -1)[0] = oct) THEN 10 WHEN (split(lower(substring(Fecha#1703, 1, 6)), _, -1)[0] = sep) THEN 09 WHEN (split(lower(substring(Fecha#1703, 1, 6)), _, -1)[0] = jun) THEN 06 WHEN (split(lower(substring(Fecha#1703, 1, 6)), _, -1)[0] = ene) THEN 01 WHEN (split(lower(substring(Fecha#1703, 1, 6)), _, -1)[0] = mar) THEN 03 WHEN (split(lower(substring(Fecha#1703, 1, 6)), _, -1)[0] = abr) THEN 04 WHEN (split(lower(substring(Fecha#1703, 1, 6)), _, -1)[0] = ago) THEN 08 WHEN (split(lower(substring(Fecha#1703, 1, 6)), _, -1)[0] = may) THEN 05 WHEN (split(lower(substring(Fecha#1703, 1, 6)), _, -1)[0] = feb) THEN 02 ELSE split(lower(substring(Fecha#1703, 1, 6)), _, -1)[0] END, split(lower(substring(Fecha#1703, 1, 6)), _, -1)[1]), MM-yy, TimestampType, Some(Etc/UTC), false) as date))\n",
            "      :     :                    +- Generate stack(12, Abr_25 FAP, Abr_25 FAP#2053, May_25 FAP, May_25 FAP#2054, Jun_25 FAP, Jun_25 FAP#2055, Jul_25 FAP, Jul_25 FAP#2056, Ago_25 FAP, Ago_25 FAP#2057, Sep_25 FAP, Sep_25 FAP#2058, Oct_25 FAP, Oct_25 FAP#2059, Nov_25 FAP, Nov_25 FAP#2060, Dic_25 FAP, Dic_25 FAP#2061, Ene_26 FAP, Ene_26 FAP#2062, Feb_26 FAP, Feb_26 FAP#2063, Mar_26 FAP, Mar_26 FAP#2064), [CANAL#2026, GRUPO#2027, CODIGO#2028L], false, [Fecha#1703, Valor#1704]\n",
            "      :     :                       +- Filter ((isnotnull(CANAL#2026) AND isnotnull(GRUPO#2027)) AND isnotnull(CODIGO#2028L))\n",
            "      :     :                          +- InMemoryTableScan [CANAL#2026, GRUPO#2027, CODIGO#2028L, Abr_25 FAP#2053, May_25 FAP#2054, Jun_25 FAP#2055, Jul_25 FAP#2056, Ago_25 FAP#2057, Sep_25 FAP#2058, Oct_25 FAP#2059, Nov_25 FAP#2060, Dic_25 FAP#2061, Ene_26 FAP#2062, Feb_26 FAP#2063, Mar_26 FAP#2064], [isnotnull(CANAL#2026), isnotnull(GRUPO#2027), isnotnull(CODIGO#2028L)]\n",
            "      :     :                                +- InMemoryRelation [CANAL#2026, GRUPO#2027, CODIGO#2028L, abr-25#2029, may-25#2030, jun-25#2031, jul-25#2032, ago-25#2033, sep-25#2034, oct-25#2035, nov-25#2036, dic-25#2037, ene-26#2038, feb-26#2039, mar-26#2040, abr_25-Pr Netos#2041, may_25-Pr Netos#2042, jun_25-Pr Netos#2043, jul_25-Pr Netos#2044, ago_25-Pr Netos#2045, sep_25-Pr Netos#2046, oct_25-Pr Netos#2047, nov_25-Pr Netos#2048, dic_25-Pr Netos#2049, ... 27 more fields], StorageLevel(disk, memory, deserialized, 1 replicas)\n",
            "      :     :                                      +- *(1) Scan ExistingRDD[CANAL#1339,GRUPO#1340,CODIGO#1341L,abr-25#1342,may-25#1343,jun-25#1344,jul-25#1345,ago-25#1346,sep-25#1347,oct-25#1348,nov-25#1349,dic-25#1350,ene-26#1351,feb-26#1352,mar-26#1353,abr_25-Pr Netos#1354,may_25-Pr Netos#1355,jun_25-Pr Netos#1356,jul_25-Pr Netos#1357,ago_25-Pr Netos#1358,sep_25-Pr Netos#1359,oct_25-Pr Netos#1360,nov_25-Pr Netos#1361,dic_25-Pr Netos#1362,... 27 more fields]\n",
            "      :     +- BroadcastExchange HashedRelationBroadcastMode(List(input[0, string, true], input[1, string, true], input[2, bigint, true], input[4, date, true]),false), [plan_id=2734]\n",
            "      :        +- Project [CANAL#2083, GRUPO#2084, CODIGO#2085L, Valor#1711 AS ptp#1945, cast(gettimestamp(concat_ws(-, CASE WHEN (mes#1888 = dic) THEN 12 WHEN (mes#1888 = jul) THEN 07 WHEN (mes#1888 = nov) THEN 11 WHEN (mes#1888 = oct) THEN 10 WHEN (mes#1888 = sep) THEN 09 WHEN (mes#1888 = jun) THEN 06 WHEN (mes#1888 = ene) THEN 01 WHEN (mes#1888 = mar) THEN 03 WHEN (mes#1888 = abr) THEN 04 WHEN (mes#1888 = ago) THEN 08 WHEN (mes#1888 = may) THEN 05 WHEN (mes#1888 = feb) THEN 02 ELSE mes#1888 END, año#1895), MM-yy, TimestampType, Some(Etc/UTC), false) as date) AS Fecha#1932]\n",
            "      :           +- Project [CANAL#2083, GRUPO#2084, CODIGO#2085L, Valor#1711, split(Fecha#1882, _, -1)[0] AS mes#1888, split(Fecha#1882, _, -1)[1] AS año#1895]\n",
            "      :              +- Project [CANAL#2083, GRUPO#2084, CODIGO#2085L, lower(substring(Fecha#1710, 1, 6)) AS Fecha#1882, Valor#1711]\n",
            "      :                 +- Filter isnotnull(cast(gettimestamp(concat_ws(-, CASE WHEN (split(lower(substring(Fecha#1710, 1, 6)), _, -1)[0] = dic) THEN 12 WHEN (split(lower(substring(Fecha#1710, 1, 6)), _, -1)[0] = jul) THEN 07 WHEN (split(lower(substring(Fecha#1710, 1, 6)), _, -1)[0] = nov) THEN 11 WHEN (split(lower(substring(Fecha#1710, 1, 6)), _, -1)[0] = oct) THEN 10 WHEN (split(lower(substring(Fecha#1710, 1, 6)), _, -1)[0] = sep) THEN 09 WHEN (split(lower(substring(Fecha#1710, 1, 6)), _, -1)[0] = jun) THEN 06 WHEN (split(lower(substring(Fecha#1710, 1, 6)), _, -1)[0] = ene) THEN 01 WHEN (split(lower(substring(Fecha#1710, 1, 6)), _, -1)[0] = mar) THEN 03 WHEN (split(lower(substring(Fecha#1710, 1, 6)), _, -1)[0] = abr) THEN 04 WHEN (split(lower(substring(Fecha#1710, 1, 6)), _, -1)[0] = ago) THEN 08 WHEN (split(lower(substring(Fecha#1710, 1, 6)), _, -1)[0] = may) THEN 05 WHEN (split(lower(substring(Fecha#1710, 1, 6)), _, -1)[0] = feb) THEN 02 ELSE split(lower(substring(Fecha#1710, 1, 6)), _, -1)[0] END, split(lower(substring(Fecha#1710, 1, 6)), _, -1)[1]), MM-yy, TimestampType, Some(Etc/UTC), false) as date))\n",
            "      :                    +- Generate stack(12, Abr_25 PTP $$, Abr_25 PTP $$#2122, May_25 PTP $$, May_25 PTP $$#2123, Jun_25 PTP $$, Jun_25 PTP $$#2124, Jul_25 PTP $$, Jul_25 PTP $$#2125, Ago_25 PTP $$, Ago_25 PTP $$#2126, Sep_25 PTP $$, Sep_25 PTP $$#2127, Oct_25 PTP $$, Oct_25 PTP $$#2128, Nov_25 PTP $$, Nov_25 PTP $$#2129, Dic_25 PTP $$, Dic_25 PTP $$#2130, Ene_26 PTP $$, Ene_26 PTP $$#2131, Feb_26 PTP $$, Feb_26 PTP $$#2132, Mar_26 PTP $$, Mar_26 PTP $$#2133), [CANAL#2083, GRUPO#2084, CODIGO#2085L], false, [Fecha#1710, Valor#1711]\n",
            "      :                       +- Filter ((isnotnull(CANAL#2083) AND isnotnull(GRUPO#2084)) AND isnotnull(CODIGO#2085L))\n",
            "      :                          +- InMemoryTableScan [CANAL#2083, GRUPO#2084, CODIGO#2085L, Abr_25 PTP $$#2122, May_25 PTP $$#2123, Jun_25 PTP $$#2124, Jul_25 PTP $$#2125, Ago_25 PTP $$#2126, Sep_25 PTP $$#2127, Oct_25 PTP $$#2128, Nov_25 PTP $$#2129, Dic_25 PTP $$#2130, Ene_26 PTP $$#2131, Feb_26 PTP $$#2132, Mar_26 PTP $$#2133], [isnotnull(CANAL#2083), isnotnull(GRUPO#2084), isnotnull(CODIGO#2085L)]\n",
            "      :                                +- InMemoryRelation [CANAL#2083, GRUPO#2084, CODIGO#2085L, abr-25#2086, may-25#2087, jun-25#2088, jul-25#2089, ago-25#2090, sep-25#2091, oct-25#2092, nov-25#2093, dic-25#2094, ene-26#2095, feb-26#2096, mar-26#2097, abr_25-Pr Netos#2098, may_25-Pr Netos#2099, jun_25-Pr Netos#2100, jul_25-Pr Netos#2101, ago_25-Pr Netos#2102, sep_25-Pr Netos#2103, oct_25-Pr Netos#2104, nov_25-Pr Netos#2105, dic_25-Pr Netos#2106, ... 27 more fields], StorageLevel(disk, memory, deserialized, 1 replicas)\n",
            "      :                                      +- *(1) Scan ExistingRDD[CANAL#1339,GRUPO#1340,CODIGO#1341L,abr-25#1342,may-25#1343,jun-25#1344,jul-25#1345,ago-25#1346,sep-25#1347,oct-25#1348,nov-25#1349,dic-25#1350,ene-26#1351,feb-26#1352,mar-26#1353,abr_25-Pr Netos#1354,may_25-Pr Netos#1355,jun_25-Pr Netos#1356,jul_25-Pr Netos#1357,ago_25-Pr Netos#1358,sep_25-Pr Netos#1359,oct_25-Pr Netos#1360,nov_25-Pr Netos#1361,dic_25-Pr Netos#1362,... 27 more fields]\n",
            "      +- BroadcastExchange HashedRelationBroadcastMode(List(input[0, string, true], input[1, string, true], input[2, bigint, true], input[4, date, true]),false), [plan_id=2738]\n",
            "         +- Project [CANAL#2141, GRUPO#2142, CODIGO#2143L, Valor#1718 AS precios#2020, cast(gettimestamp(concat_ws(-, CASE WHEN (mes#1963 = dic) THEN 12 WHEN (mes#1963 = jul) THEN 07 WHEN (mes#1963 = nov) THEN 11 WHEN (mes#1963 = oct) THEN 10 WHEN (mes#1963 = sep) THEN 09 WHEN (mes#1963 = jun) THEN 06 WHEN (mes#1963 = ene) THEN 01 WHEN (mes#1963 = mar) THEN 03 WHEN (mes#1963 = abr) THEN 04 WHEN (mes#1963 = ago) THEN 08 WHEN (mes#1963 = may) THEN 05 WHEN (mes#1963 = feb) THEN 02 ELSE mes#1963 END, año#1970), MM-yy, TimestampType, Some(Etc/UTC), false) as date) AS Fecha#2007]\n",
            "            +- Project [CANAL#2141, GRUPO#2142, CODIGO#2143L, Valor#1718, split(Fecha#1957, _, -1)[0] AS mes#1963, split(Fecha#1957, _, -1)[1] AS año#1970]\n",
            "               +- Project [CANAL#2141, GRUPO#2142, CODIGO#2143L, lower(substring(Fecha#1717, 1, 6)) AS Fecha#1957, Valor#1718]\n",
            "                  +- Filter isnotnull(cast(gettimestamp(concat_ws(-, CASE WHEN (split(lower(substring(Fecha#1717, 1, 6)), _, -1)[0] = dic) THEN 12 WHEN (split(lower(substring(Fecha#1717, 1, 6)), _, -1)[0] = jul) THEN 07 WHEN (split(lower(substring(Fecha#1717, 1, 6)), _, -1)[0] = nov) THEN 11 WHEN (split(lower(substring(Fecha#1717, 1, 6)), _, -1)[0] = oct) THEN 10 WHEN (split(lower(substring(Fecha#1717, 1, 6)), _, -1)[0] = sep) THEN 09 WHEN (split(lower(substring(Fecha#1717, 1, 6)), _, -1)[0] = jun) THEN 06 WHEN (split(lower(substring(Fecha#1717, 1, 6)), _, -1)[0] = ene) THEN 01 WHEN (split(lower(substring(Fecha#1717, 1, 6)), _, -1)[0] = mar) THEN 03 WHEN (split(lower(substring(Fecha#1717, 1, 6)), _, -1)[0] = abr) THEN 04 WHEN (split(lower(substring(Fecha#1717, 1, 6)), _, -1)[0] = ago) THEN 08 WHEN (split(lower(substring(Fecha#1717, 1, 6)), _, -1)[0] = may) THEN 05 WHEN (split(lower(substring(Fecha#1717, 1, 6)), _, -1)[0] = feb) THEN 02 ELSE split(lower(substring(Fecha#1717, 1, 6)), _, -1)[0] END, split(lower(substring(Fecha#1717, 1, 6)), _, -1)[1]), MM-yy, TimestampType, Some(Etc/UTC), false) as date))\n",
            "                     +- Generate stack(12, abr_25-Pr Netos, abr_25-Pr Netos#2156, may_25-Pr Netos, may_25-Pr Netos#2157, jun_25-Pr Netos, jun_25-Pr Netos#2158, jul_25-Pr Netos, jul_25-Pr Netos#2159, ago_25-Pr Netos, ago_25-Pr Netos#2160, sep_25-Pr Netos, sep_25-Pr Netos#2161, oct_25-Pr Netos, oct_25-Pr Netos#2162, nov_25-Pr Netos, nov_25-Pr Netos#2163, dic_25-Pr Netos, dic_25-Pr Netos#2164, ene_26-Pr Netos, ene_26-Pr Netos#2165, feb_26-Pr Netos, feb_26-Pr Netos#2166, mar_26-Pr Netos, mar_26-Pr Netos#2167), [CANAL#2141, GRUPO#2142, CODIGO#2143L], false, [Fecha#1717, Valor#1718]\n",
            "                        +- Filter ((isnotnull(CANAL#2141) AND isnotnull(GRUPO#2142)) AND isnotnull(CODIGO#2143L))\n",
            "                           +- InMemoryTableScan [CANAL#2141, GRUPO#2142, CODIGO#2143L, abr_25-Pr Netos#2156, may_25-Pr Netos#2157, jun_25-Pr Netos#2158, jul_25-Pr Netos#2159, ago_25-Pr Netos#2160, sep_25-Pr Netos#2161, oct_25-Pr Netos#2162, nov_25-Pr Netos#2163, dic_25-Pr Netos#2164, ene_26-Pr Netos#2165, feb_26-Pr Netos#2166, mar_26-Pr Netos#2167], [isnotnull(CANAL#2141), isnotnull(GRUPO#2142), isnotnull(CODIGO#2143L)]\n",
            "                                 +- InMemoryRelation [CANAL#2141, GRUPO#2142, CODIGO#2143L, abr-25#2144, may-25#2145, jun-25#2146, jul-25#2147, ago-25#2148, sep-25#2149, oct-25#2150, nov-25#2151, dic-25#2152, ene-26#2153, feb-26#2154, mar-26#2155, abr_25-Pr Netos#2156, may_25-Pr Netos#2157, jun_25-Pr Netos#2158, jul_25-Pr Netos#2159, ago_25-Pr Netos#2160, sep_25-Pr Netos#2161, oct_25-Pr Netos#2162, nov_25-Pr Netos#2163, dic_25-Pr Netos#2164, ... 27 more fields], StorageLevel(disk, memory, deserialized, 1 replicas)\n",
            "                                       +- *(1) Scan ExistingRDD[CANAL#1339,GRUPO#1340,CODIGO#1341L,abr-25#1342,may-25#1343,jun-25#1344,jul-25#1345,ago-25#1346,sep-25#1347,oct-25#1348,nov-25#1349,dic-25#1350,ene-26#1351,feb-26#1352,mar-26#1353,abr_25-Pr Netos#1354,may_25-Pr Netos#1355,jun_25-Pr Netos#1356,jul_25-Pr Netos#1357,ago_25-Pr Netos#1358,sep_25-Pr Netos#1359,oct_25-Pr Netos#1360,nov_25-Pr Netos#1361,dic_25-Pr Netos#1362,... 27 more fields]\n",
            "\n",
            "\n"
          ]
        }
      ]
    }
  ]
}